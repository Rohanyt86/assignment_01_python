{
 "cells": [
  {
   "cell_type": "markdown",
   "id": "9c93fd59",
   "metadata": {},
   "source": [
    "#### Q1. Explain with an example each when to use a for loop and a while loop."
   ]
  },
  {
   "cell_type": "code",
   "execution_count": 2,
   "id": "960b129c",
   "metadata": {},
   "outputs": [
    {
     "name": "stdout",
     "output_type": "stream",
     "text": [
      "[2, 36, 78]\n"
     ]
    }
   ],
   "source": [
    "#1) For loop\n",
    " #->  A for loop is used for iterating over a sequence.\n",
    "    \n",
    "   # Example:\n",
    "## want even number \n",
    "\n",
    "n = [1,2,45,25,36,78]\n",
    "p = []\n",
    "for i in n:\n",
    "    if i%2==0:\n",
    "        p.append(i)\n",
    "print(p)"
   ]
  },
  {
   "cell_type": "code",
   "execution_count": 3,
   "id": "91bb7131",
   "metadata": {},
   "outputs": [
    {
     "name": "stdout",
     "output_type": "stream",
     "text": [
      "enter the number:- 10\n",
      "10 X 1 = 10\n",
      "10 X 2 = 20\n",
      "10 X 3 = 30\n",
      "10 X 4 = 40\n",
      "10 X 5 = 50\n",
      "10 X 6 = 60\n",
      "10 X 7 = 70\n",
      "10 X 8 = 80\n",
      "10 X 9 = 90\n",
      "10 X 10 = 100\n"
     ]
    }
   ],
   "source": [
    "# 2) while loop\n",
    " #-> while loop we can execute a set of statements as long as a condition is true\n",
    "    \n",
    "    # example\n",
    "## tables\n",
    "\n",
    "l = int(input(\"enter the number:- \"))\n",
    "table = 1\n",
    "\n",
    "while table <= 10:\n",
    "    x = table*l\n",
    "    print(l, \"X\", table, \"=\", x)\n",
    "    table = table + 1"
   ]
  },
  {
   "cell_type": "markdown",
   "id": "4e5af180",
   "metadata": {},
   "source": [
    "#### Q2. Write a python program to print the sum and product of the first 10 natural numbers using for and while loop."
   ]
  },
  {
   "cell_type": "code",
   "execution_count": 20,
   "id": "beb3efd1",
   "metadata": {},
   "outputs": [
    {
     "name": "stdout",
     "output_type": "stream",
     "text": [
      "The sum of first 10 natural numbers:- 55\n",
      "the multiply of first 10 natural numbers:- 3628800\n"
     ]
    }
   ],
   "source": [
    "## for loop\n",
    "\n",
    "a = 0\n",
    "b = 1\n",
    "for i in range(1,11):\n",
    "    a += i\n",
    "    b *= i\n",
    "print(\"The sum of first 10 natural numbers:-\",a)\n",
    "print(\"the multiply of first 10 natural numbers:-\",b)\n"
   ]
  },
  {
   "cell_type": "code",
   "execution_count": 3,
   "id": "6d36bc64",
   "metadata": {},
   "outputs": [
    {
     "name": "stdout",
     "output_type": "stream",
     "text": [
      "The sum of first 10 natural numbers:- 55\n",
      "the multiply of first 10 natural numbers:- 3628800\n"
     ]
    }
   ],
   "source": [
    "## while loop\n",
    "\n",
    "sum1 = 0\n",
    "a = 1\n",
    "product = 1\n",
    "while a<=10:\n",
    "    sum1 += a\n",
    "    product *= a\n",
    "    a = a+1\n",
    "print(\"The sum of first 10 natural numbers:-\",sum1)\n",
    "print(\"the multiply of first 10 natural numbers:-\",product)"
   ]
  },
  {
   "cell_type": "markdown",
   "id": "3741dc11",
   "metadata": {},
   "source": [
    "#### Q3. Create a python program to compute the electricity bill for a household. The per-unit charges in rupees are as follows: For the first 100 units, the user will be charged Rs. 4.5 per unit, for the next 100 units, the user will be charged Rs. 6 per unit, and for the next 100 units, the user will be charged Rs. 10 per unit, After 300 units and above the user will be charged Rs. 20 per unit."
   ]
  },
  {
   "cell_type": "code",
   "execution_count": 6,
   "id": "7cc89dfa",
   "metadata": {},
   "outputs": [
    {
     "name": "stdout",
     "output_type": "stream",
     "text": [
      "enter the units consumed in the month:- 310\n",
      "the user electricity bill for 310 units is Rs 2250.0\n"
     ]
    }
   ],
   "source": [
    "def electricity_bill(unit):\n",
    "    if unit <=100:\n",
    "        charge = unit * 4.5\n",
    "    elif unit <=200:\n",
    "        charge = 100 * 4.5 + (unit - 100) * 6\n",
    "    elif unit <=300:\n",
    "        charge = 100 * 4.5 + 100 * 6 + (unit - 200) * 10\n",
    "    else:\n",
    "        charge = 100 * 4.5 + 100 * 6 + 100 * 10 + (unit - 300) * 20\n",
    "    return charge\n",
    "\n",
    "def main():\n",
    "    n = int(input(\"enter the units consumed in the month:- \"))\n",
    "    total_charge = electricity_bill(n)\n",
    "    print(\"the user electricity bill for {0} units is Rs {1}\".format(n,total_charge))\n",
    "\n",
    "main()\n",
    "        "
   ]
  },
  {
   "cell_type": "markdown",
   "id": "a6741f25",
   "metadata": {},
   "source": [
    "#### Q4. Create a list of numbers from 1 to 100. Use for loop and while loop to calculate the cube of each number and if the cube of that number is divisible by 4 or 5 then append that number in a list and print that list."
   ]
  },
  {
   "cell_type": "code",
   "execution_count": 7,
   "id": "c249dea0",
   "metadata": {},
   "outputs": [
    {
     "name": "stdout",
     "output_type": "stream",
     "text": [
      "[2, 4, 5, 6, 8, 10, 12, 14, 15, 16, 18, 20, 22, 24, 25, 26, 28, 30, 32, 34, 35, 36, 38, 40, 42, 44, 45, 46, 48, 50, 52, 54, 55, 56, 58, 60, 62, 64, 65, 66, 68, 70, 72, 74, 75, 76, 78, 80, 82, 84, 85, 86, 88, 90, 92, 94, 95, 96, 98, 100]\n"
     ]
    }
   ],
   "source": [
    "## for loop\n",
    "\n",
    "p = []\n",
    "\n",
    "for i in range(1,101):\n",
    "    l = i**3\n",
    "    if l%4==0 or l%5==0:\n",
    "        p.append(i)\n",
    "print(p)"
   ]
  },
  {
   "cell_type": "code",
   "execution_count": 8,
   "id": "336af382",
   "metadata": {},
   "outputs": [
    {
     "name": "stdout",
     "output_type": "stream",
     "text": [
      "[2, 4, 5, 6, 8, 10, 12, 14, 15, 16, 18, 20, 22, 24, 25, 26, 28, 30, 32, 34, 35, 36, 38, 40, 42, 44, 45, 46, 48, 50, 52, 54, 55, 56, 58, 60, 62, 64, 65, 66, 68, 70, 72, 74, 75, 76, 78, 80, 82, 84, 85, 86, 88, 90, 92, 94, 95, 96, 98, 100]\n"
     ]
    }
   ],
   "source": [
    "## while loop\n",
    "\n",
    "w = []\n",
    "l = 1\n",
    "\n",
    "while l<101:\n",
    "    s = l**3\n",
    "    if s%4==0 or s%5==0:\n",
    "        w.append(l)\n",
    "    l +=1\n",
    "print(w)"
   ]
  },
  {
   "cell_type": "markdown",
   "id": "d4e96b08",
   "metadata": {},
   "source": [
    "#### Q5. Write a program to filter count vowels in the below-given string. string = \"I want to become a data scientist\""
   ]
  },
  {
   "cell_type": "code",
   "execution_count": 9,
   "id": "eb3dc809",
   "metadata": {},
   "outputs": [
    {
     "name": "stdout",
     "output_type": "stream",
     "text": [
      "11\n"
     ]
    }
   ],
   "source": [
    "string = \"I want to become a data scientist\"\n",
    "vowels = [\"a\",\"e\",\"i\",\"o\",\"u\"]\n",
    "l = []\n",
    "\n",
    "for i in string:\n",
    "    if i in vowels:\n",
    "        l.append(i)\n",
    "print(len(l))"
   ]
  },
  {
   "cell_type": "code",
   "execution_count": null,
   "id": "fd05d032",
   "metadata": {},
   "outputs": [],
   "source": []
  }
 ],
 "metadata": {
  "kernelspec": {
   "display_name": "Python 3 (ipykernel)",
   "language": "python",
   "name": "python3"
  },
  "language_info": {
   "codemirror_mode": {
    "name": "ipython",
    "version": 3
   },
   "file_extension": ".py",
   "mimetype": "text/x-python",
   "name": "python",
   "nbconvert_exporter": "python",
   "pygments_lexer": "ipython3",
   "version": "3.9.13"
  }
 },
 "nbformat": 4,
 "nbformat_minor": 5
}
